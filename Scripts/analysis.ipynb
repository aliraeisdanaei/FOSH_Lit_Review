{
 "cells": [
  {
   "cell_type": "code",
   "execution_count": 1,
   "metadata": {},
   "outputs": [],
   "source": [
    "import json"
   ]
  },
  {
   "cell_type": "code",
   "execution_count": 2,
   "metadata": {},
   "outputs": [],
   "source": [
    "with open(\"certifications.json\") as f:\n",
    "    data = json.load(f)"
   ]
  },
  {
   "cell_type": "code",
   "execution_count": 16,
   "metadata": {},
   "outputs": [],
   "source": [
    "hardwareLicenses = {}\n",
    "softwareLicenses = {}\n",
    "documentationLicenses = {}"
   ]
  },
  {
   "cell_type": "code",
   "execution_count": 20,
   "metadata": {},
   "outputs": [],
   "source": [
    "for item in data['items']:\n",
    "    hLic = item['hardwareLicense']\n",
    "    sLic = item['softwareLicense']\n",
    "    dLic = item['documentationLicense']\n",
    "\n",
    "    if(hLic in hardwareLicenses):\n",
    "        hardwareLicenses[hLic] += 1\n",
    "    else:\n",
    "        hardwareLicenses[hLic] = 0\n",
    "\n",
    "    if(sLic in softwareLicenses):\n",
    "        softwareLicenses[sLic] += 1\n",
    "    else:\n",
    "        softwareLicenses[sLic] = 0\n",
    "\n",
    "    if(dLic in documentationLicenses):\n",
    "        documentationLicenses[dLic] += 1\n",
    "    else:\n",
    "        documentationLicenses[dLic] = 1"
   ]
  },
  {
   "cell_type": "code",
   "execution_count": 21,
   "metadata": {},
   "outputs": [
    {
     "data": {
      "text/plain": [
       "{'CERN': 23,\n",
       " 'CERN-OHL-S-2.0': 7,\n",
       " 'TAPR': 19,\n",
       " 'Other': 137,\n",
       " 'CERN-OHL-P-2.0': 3,\n",
       " 'CERN-OHL-W-2.0': 3,\n",
       " 'Solderpad': 1}"
      ]
     },
     "execution_count": 21,
     "metadata": {},
     "output_type": "execute_result"
    }
   ],
   "source": [
    "hardwareLicenses"
   ]
  },
  {
   "cell_type": "code",
   "execution_count": 22,
   "metadata": {},
   "outputs": [
    {
     "data": {
      "text/plain": [
       "{'No software': 33,\n",
       " 'MIT': 133,\n",
       " 'GPL': 25,\n",
       " 'GPL-3.0-or-later': 1,\n",
       " 'LGPL': 1,\n",
       " 'Other': 1}"
      ]
     },
     "execution_count": 22,
     "metadata": {},
     "output_type": "execute_result"
    }
   ],
   "source": [
    "softwareLicenses"
   ]
  },
  {
   "cell_type": "code",
   "execution_count": 23,
   "metadata": {},
   "outputs": [
    {
     "data": {
      "text/plain": [
       "{'CC BY-SA': 171,\n",
       " 'CC-BY-4.0': 3,\n",
       " 'CC BY': 13,\n",
       " 'CC-BY-SA-4.0': 1,\n",
       " 'CERN-OHL-P-2.0': 1,\n",
       " 'Other': 5}"
      ]
     },
     "execution_count": 23,
     "metadata": {},
     "output_type": "execute_result"
    }
   ],
   "source": [
    "documentationLicenses"
   ]
  }
 ],
 "metadata": {
  "kernelspec": {
   "display_name": "Python 3",
   "language": "python",
   "name": "python3"
  },
  "language_info": {
   "codemirror_mode": {
    "name": "ipython",
    "version": 3
   },
   "file_extension": ".py",
   "mimetype": "text/x-python",
   "name": "python",
   "nbconvert_exporter": "python",
   "pygments_lexer": "ipython3",
   "version": "3.10.9"
  },
  "orig_nbformat": 4,
  "vscode": {
   "interpreter": {
    "hash": "e7370f93d1d0cde622a1f8e1c04877d8463912d04d973331ad4851f04de6915a"
   }
  }
 },
 "nbformat": 4,
 "nbformat_minor": 2
}
